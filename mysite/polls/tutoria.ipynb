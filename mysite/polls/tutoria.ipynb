{
 "cells": [
  {
   "cell_type": "code",
   "execution_count": 3,
   "metadata": {
    "vscode": {
     "languageId": "powershell"
    }
   },
   "outputs": [],
   "source": [
    "!python -m venv .venv"
   ]
  },
  {
   "cell_type": "code",
   "execution_count": 7,
   "metadata": {
    "vscode": {
     "languageId": "powershell"
    }
   },
   "outputs": [],
   "source": [
    "# activate venv\n",
    "!.\\.venv\\Scripts\\Activate"
   ]
  },
  {
   "cell_type": "code",
   "execution_count": 2,
   "metadata": {
    "vscode": {
     "languageId": "powershell"
    }
   },
   "outputs": [
    {
     "name": "stdout",
     "output_type": "stream",
     "text": [
      "5.0.2\n"
     ]
    }
   ],
   "source": [
    "!python -m django --version"
   ]
  },
  {
   "cell_type": "code",
   "execution_count": null,
   "metadata": {
    "vscode": {
     "languageId": "powershell"
    }
   },
   "outputs": [],
   "source": [
    "!django-admin startproject mysite"
   ]
  },
  {
   "cell_type": "markdown",
   "metadata": {},
   "source": [
    "#### Folder structure\n",
    "\n",
    "- The outer mysite/ root directory is a container for your project. Its name doesn’t matter to Django; you can rename it to anything you like.\n",
    "- manage.py: A command-line utility that lets you interact with this Django project in various ways. You can read all the details about manage.py in django-admin and manage.py.\n",
    "- The inner mysite/ directory is the actual Python package for your project. Its name is the Python package name you’ll need to use to import anything inside it (e.g. mysite.urls).\n",
    "- mysite/__init__.py: An empty file that tells Python that this directory should be considered a Python package. If you’re a Python beginner, read more about packages in the official Python docs.\n",
    "- mysite/settings.py: Settings/configuration for this Django project. Django settings will tell you all about how settings work.\n",
    "- mysite/urls.py: The URL declarations for this Django project; a “table of contents” of your Django-powered site. You can read more about URLs in URL dispatcher.\n",
    "- mysite/asgi.py: An entry-point for ASGI-compatible web servers to serve your project. See How to deploy with ASGI for more details.\n",
    "- mysite/wsgi.py: An entry-point for WSGI-compatible web servers to serve your project. See How to deploy with WSGI for more details."
   ]
  },
  {
   "cell_type": "markdown",
   "metadata": {},
   "source": []
  },
  {
   "cell_type": "code",
   "execution_count": null,
   "metadata": {
    "vscode": {
     "languageId": "powershell"
    }
   },
   "outputs": [],
   "source": [
    "!python manage.py runserver"
   ]
  },
  {
   "cell_type": "markdown",
   "metadata": {},
   "source": [
    "#### Changing the port"
   ]
  },
  {
   "cell_type": "code",
   "execution_count": 3,
   "metadata": {
    "vscode": {
     "languageId": "powershell"
    }
   },
   "outputs": [
    {
     "name": "stderr",
     "output_type": "stream",
     "text": [
      "c:\\Program Files\\Python\\python.exe: can't open file 'c:\\\\Users\\\\Salerno\\\\OneDrive\\\\Documentos\\\\Private\\\\Salerno\\\\Pessoal\\\\Cursos\\\\django\\\\official_tutorial\\\\manage.py': [Errno 2] No such file or directory\n"
     ]
    }
   ],
   "source": [
    "!python manage.py runserver 8080"
   ]
  },
  {
   "cell_type": "code",
   "execution_count": 4,
   "metadata": {
    "vscode": {
     "languageId": "powershell"
    }
   },
   "outputs": [
    {
     "name": "stderr",
     "output_type": "stream",
     "text": [
      "c:\\Program Files\\Python\\python.exe: can't open file 'c:\\\\Users\\\\Salerno\\\\OneDrive\\\\Documentos\\\\Private\\\\Salerno\\\\Pessoal\\\\Cursos\\\\django\\\\official_tutorial\\\\manage.py': [Errno 2] No such file or directory\n"
     ]
    }
   ],
   "source": [
    "!python manage.py runserver 0.0.0.0:8080"
   ]
  },
  {
   "cell_type": "code",
   "execution_count": 5,
   "metadata": {
    "vscode": {
     "languageId": "powershell"
    }
   },
   "outputs": [
    {
     "name": "stderr",
     "output_type": "stream",
     "text": [
      "c:\\Program Files\\Python\\python.exe: can't open file 'c:\\\\Users\\\\Salerno\\\\OneDrive\\\\Documentos\\\\Private\\\\Salerno\\\\Pessoal\\\\Cursos\\\\django\\\\official_tutorial\\\\manage.py': [Errno 2] No such file or directory\n"
     ]
    }
   ],
   "source": [
    "!python manage.py startapp polls"
   ]
  }
 ],
 "metadata": {
  "kernelspec": {
   "display_name": "Python 3",
   "language": "python",
   "name": "python3"
  },
  "language_info": {
   "codemirror_mode": {
    "name": "ipython",
    "version": 3
   },
   "file_extension": ".py",
   "mimetype": "text/x-python",
   "name": "python",
   "nbconvert_exporter": "python",
   "pygments_lexer": "ipython3",
   "version": "3.11.3"
  }
 },
 "nbformat": 4,
 "nbformat_minor": 2
}
